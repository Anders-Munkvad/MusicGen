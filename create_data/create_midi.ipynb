{
 "cells": [
  {
   "cell_type": "code",
   "execution_count": null,
   "metadata": {},
   "outputs": [],
   "source": [
    "# audio-to-MIDI conversion"
   ]
  },
  {
   "cell_type": "markdown",
   "metadata": {},
   "source": [
    "# Using AnthemScore"
   ]
  },
  {
   "cell_type": "code",
   "execution_count": null,
   "metadata": {},
   "outputs": [],
   "source": [
    "import os\n",
    "import subprocess\n",
    "\n",
    "def convert_audio_to_midi(anthem_path, input_dir, output_dir):\n",
    "    \"\"\"\n",
    "    Converts all .wav files in the input_dir to MIDI files in output_dir using AnthemScore.\n",
    "    \"\"\"\n",
    "    for file_name in os.listdir(input_dir):\n",
    "        if file_name.endswith('.wav'):\n",
    "            input_path = os.path.join(input_dir, file_name)\n",
    "            output_path = os.path.join(output_dir, file_name.replace('.wav', '.mid'))\n",
    "            # Run AnthemScore's command-line tool\n",
    "            command = [anthem_path, \"-i\", input_path, \"-o\", output_path]\n",
    "            subprocess.run(command)\n",
    "\n",
    "# Paths (edit to match your installation)\n",
    "anthem_executable = \"/path/to/anthem_score.exe\"\n",
    "input_directory = \"/path/to/audio_files\"\n",
    "output_directory = \"/path/to/output_midis\"\n",
    "\n",
    "# Convert batch of files\n",
    "convert_audio_to_midi(anthem_executable, input_directory, output_directory)\n"
   ]
  }
 ],
 "metadata": {
  "kernelspec": {
   "display_name": "adl",
   "language": "python",
   "name": "python3"
  },
  "language_info": {
   "codemirror_mode": {
    "name": "ipython",
    "version": 3
   },
   "file_extension": ".py",
   "mimetype": "text/x-python",
   "name": "python",
   "nbconvert_exporter": "python",
   "pygments_lexer": "ipython3",
   "version": "3.11.7"
  }
 },
 "nbformat": 4,
 "nbformat_minor": 2
}
